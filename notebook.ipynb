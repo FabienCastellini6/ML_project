{
 "cells": [
  {
   "cell_type": "markdown",
   "id": "90f29edb",
   "metadata": {},
   "source": [
    "# Projet Machine Learning - Fabien Castellini/Paul-Antoine Charbit"
   ]
  },
  {
   "cell_type": "markdown",
   "id": "af6f8895",
   "metadata": {},
   "source": [
    "# 1- Présentation de la problématique du challenge"
   ]
  },
  {
   "cell_type": "raw",
   "id": "98129907",
   "metadata": {},
   "source": [
    "Le challenge est proposé par le fond d'investissement Qube Research & Technologies (QRT) et est disponible sur le site des Challenges du Collège de France: https://challengedata.ens.fr/participants/challenges/143/\n",
    "\n",
    "L'objectif du challenge est de construire un modèle de prédiction des résultats de matchs de football à l'aide de données historiques sur des équipes et des joueurs. \n",
    "\n",
    "Les données fournies comprennent des métriques au niveau des équipes et des joueurs, telles que les attaques d'équipe, la possession de balle, les tirs au but, etc. Les données sont divisées en ensembles d'entraînement et de test, avec des fichiers supplémentaires pour les étiquettes de sortie. Les ensembles de données comprennent des informations sur les ligues, les équipes, les joueurs, ainsi que diverses métriques calculées à partir des matchs historiques.\n",
    "\n",
    "Les participants doivent développer des modèles capables de prédire les résultats des matchs en se basant sur ces données. Les évaluations se font en termes de précision des prédictions pour les trois classes de résultats possibles : victoire à domicile, match nul ou victoire à l'extérieur. Les données ont été normalisées et les informations sur les équipes, les joueurs et les ligues ont été supprimées de l'ensemble de test pour éviter l'utilisation de données externes.\n",
    "\n",
    "Le challenge propose deux benchmarks : le premier consiste à prédire systématiquement la victoire de l'équipe à domicile, tandis que le second utilise un modèle de gradient boosting pour prédire si l'équipe à l'extérieur gagne ou non. Les participants sont encouragés à utiliser ces benchmarks comme référence et à développer leurs propres modèles pour améliorer la précision des prédictions."
   ]
  },
  {
   "cell_type": "markdown",
   "id": "5f6a1050",
   "metadata": {},
   "source": [
    "##2- Décomposition des données"
   ]
  },
  {
   "cell_type": "raw",
   "id": "2b5e81ab",
   "metadata": {},
   "source": [
    "La décomposition entre les échantillons train et test est fournie par l'organisateur du challenge.\n",
    "\n",
    "Chaque échantillon est composé de quatre base de données:\n",
    "- une contenant les statistiques sur les équipes jouant à domicile\n",
    "- une contenant les statistiques des joueurs évoluant à domicile\n",
    "- une contenant les statistiques sur les équipes jouant à l'extérieur\n",
    "- une contenant les statistique des joueurs évoluant à l'extérieur\n",
    "\n",
    "Pour chacune de ces bases, la colonne 'ID' permet de faire lien entre les équipes et les joueurs qui participent à chaque match. "
   ]
  },
  {
   "cell_type": "code",
   "execution_count": 1,
   "id": "3b8806ab",
   "metadata": {},
   "outputs": [],
   "source": [
    "# Les packages\n",
    "from sklearn.metrics import accuracy_score\n",
    "import pandas as pd\n",
    "import numpy as np"
   ]
  },
  {
   "cell_type": "code",
   "execution_count": null,
   "id": "5cd9099b",
   "metadata": {},
   "outputs": [],
   "source": []
  },
  {
   "cell_type": "markdown",
   "id": "56456cdb",
   "metadata": {},
   "source": [
    "##3- Les features"
   ]
  },
  {
   "cell_type": "code",
   "execution_count": null,
   "id": "c942683b",
   "metadata": {},
   "outputs": [],
   "source": []
  }
 ],
 "metadata": {
  "kernelspec": {
   "display_name": "Python 3 (ipykernel)",
   "language": "python",
   "name": "python3"
  },
  "language_info": {
   "codemirror_mode": {
    "name": "ipython",
    "version": 3
   },
   "file_extension": ".py",
   "mimetype": "text/x-python",
   "name": "python",
   "nbconvert_exporter": "python",
   "pygments_lexer": "ipython3",
   "version": "3.11.4"
  }
 },
 "nbformat": 4,
 "nbformat_minor": 5
}
